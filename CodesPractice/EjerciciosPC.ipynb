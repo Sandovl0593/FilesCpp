{
 "cells": [
  {
   "cell_type": "markdown",
   "metadata": {},
   "source": [
    "# **Ejercicios PrePython**"
   ]
  },
  {
   "cell_type": "markdown",
   "metadata": {},
   "source": [
    "**De grados Celsius a grados Rakine y Kelvin**"
   ]
  },
  {
   "cell_type": "code",
   "execution_count": null,
   "metadata": {
    "vscode": {
     "languageId": "cpp"
    }
   },
   "outputs": [],
   "source": [
    "# include <iostream>\n",
    "# include <iomanip>\n",
    "# include <string.h>\n",
    "# include <string>\n",
    "\n",
    "using namespace std;\n",
    "\n",
    "void printRankine(int num) {\n",
    "    int celsius = 0;\n",
    "    printf(\"\\nCentigrados          Rankine\\n\");\n",
    "    while (celsius <= num) {\n",
    "        float rankine = celsius*1.8 + 491.67;\n",
    "        auto strg = to_string(celsius);\n",
    "        int longi = strg.size();\n",
    "        cout << setw(8) << celsius << \".00\" << setw(16) << rankine << \"0\" << endl; \n",
    "        celsius += 3;\n",
    "    }\n",
    "}\n",
    "\n",
    "void printKelvin(int num) {\n",
    "    int celsius = 0;\n",
    "    printf(\"\\nCentigrados          Kelvin\\n\");\n",
    "    while (celsius <= num) {\n",
    "        float kelvin = celsius + 273.15;\n",
    "        auto strg = to_string(celsius);\n",
    "        int longi = strg.size();\n",
    "        cout << setw(8) << celsius << \".00\" << setw(16) << kelvin << \"0\" << endl; \n",
    "        celsius += 5;\n",
    "    }\n",
    "}\n",
    "\n",
    "int main() {\n",
    "    float B;\n",
    "    do { cout << \"Valor limite: \";  cin >> B;\n",
    "    } while (B < 50);\n",
    "    printRankine(B);  printKelvin(B);\n",
    "    cout << \"Chao.\" << endl;\n",
    "}"
   ]
  },
  {
   "cell_type": "markdown",
   "metadata": {},
   "source": [
    "**Porcentajes de nacimiento por estación del año**"
   ]
  },
  {
   "cell_type": "code",
   "execution_count": null,
   "metadata": {
    "vscode": {
     "languageId": "cpp"
    }
   },
   "outputs": [],
   "source": [
    "# include <iostream>\n",
    "using namespace std;\n",
    "\n",
    "int main() {\n",
    "    int cant;\n",
    "    do { cout << \"Cantidad de alumnos [6, 40]: \";  cin >>  cant;\n",
    "    } while (cant > 41 || cant < 5);\n",
    "    float verano=0, otonio=0, invierno=0, primav=0;\n",
    "    int dia, mes;\n",
    "    \n",
    "    for (int i=0; i < cant; i++) {\n",
    "        cout << \"Fecha de nacimiento Alumno \" << i+1 << endl;\n",
    "        cout << \"Día: \";  cin >> dia;\n",
    "        cout << \"Mes: \";  cin >> mes;\n",
    "        if (mes == 1 || mes == 2 || (mes == 12 & dia >= 21) || (mes == 3 & dia <= 20))\n",
    "            verano += 1;\n",
    "        else if (mes == 4 || mes == 5 || (mes == 3 & dia >= 21) || (mes == 6 & dia <= 21))\n",
    "            otonio += 1;\n",
    "        else if ((mes <= 9 & mes >= 7) || (mes == 6 & dia >= 22))\n",
    "            invierno += 1;\n",
    "        else\n",
    "            primav += 1;\n",
    "    }\n",
    "    \n",
    "    cout << \"\\nReporte:\\n\" << endl;\n",
    "    float datos[4] = {verano, otonio, invierno, primav};\n",
    "    string terminos[4] = {\"verano\", \"otoño\", \"invierno\", \"primavera\"};\n",
    "    \n",
    "    for (int i=0; i < 4; i++) {\n",
    "        float por_ver = 100*(datos[i]/cant);\n",
    "        cout << \"Nacidos en \" << terminos[i] << \": \" << por_ver << \".00\" << endl;  \n",
    "    }\n",
    "}"
   ]
  },
  {
   "cell_type": "markdown",
   "metadata": {},
   "source": [
    "**Fila de digitos en descendente**"
   ]
  },
  {
   "cell_type": "code",
   "execution_count": null,
   "metadata": {
    "vscode": {
     "languageId": "cpp"
    }
   },
   "outputs": [],
   "source": [
    "# include <iostream>\n",
    "# include <string>\n",
    "using namespace std;\n",
    "\n",
    "int main() {\n",
    "    int n;  cout << \"Filas: \";   cin >> n;\n",
    "    for (int i=0; i<n; i++) {\n",
    "        string ct;  \n",
    "        string a = ct.insert(0, n-1-i, '0');\n",
    "        for (int j=n; j>n-1-i; j--)\n",
    "            cout << j;\n",
    "        cout << a << endl;\n",
    "    }\n",
    "}"
   ]
  },
  {
   "cell_type": "markdown",
   "metadata": {},
   "source": [
    "**Area del triángulo**"
   ]
  },
  {
   "cell_type": "code",
   "execution_count": null,
   "metadata": {
    "vscode": {
     "languageId": "cpp"
    }
   },
   "outputs": [],
   "source": [
    "# include <iostream>\n",
    "# include <math.h>\n",
    "using namespace std;\n",
    "\n",
    "int main() {\n",
    "    int L1;  cout << \"Lado 1: \";   cin >> L1;\n",
    "    int L2;  cout << \"Lado 2: \";   cin >> L2;\n",
    "    int L3;  cout << \"Lado 3: \";   cin >> L3;\n",
    "    if (L1 + L2 >L3 && L2 + L3 >L1 && L3 + L1 >L2) {\n",
    "        if (L1 == L2 || L2 == L3 || L3 == L1) {\n",
    "            if (L1 == L2 == L3)\n",
    "                cout << \"Triangulo equilatero\" << endl;\n",
    "            else          cout << \"traingulo isosceles\" << endl;\n",
    "        } else          cout << \"Triangulo escaleno\" << endl;\n",
    "        \n",
    "        float s = (Li + L2 + L3)/2\n",
    "        float area = sqrt(s*(s-L1)*(s-L2)*(s-L3))\n",
    "        cout << \"Su area es de: \" << area << endl;\n",
    "    }\n",
    "    else                 cout << \"No se puede formar un triangulo\";\n",
    "}"
   ]
  },
  {
   "cell_type": "markdown",
   "metadata": {},
   "source": [
    "**Presión sistólica en la poblacion Gorinki**"
   ]
  },
  {
   "cell_type": "code",
   "execution_count": null,
   "metadata": {
    "vscode": {
     "languageId": "cpp"
    }
   },
   "outputs": [],
   "source": [
    "# include <iostream>\n",
    "using namespace std;\n",
    "\n",
    "int main () {\n",
    "    int gor;\n",
    "    do { cout << \"Numero de gorinkis: \";  cin >> gor;\n",
    "    } while (gor < 3);\n",
    "\n",
    "    for (int i=0; i<gor; i++) {\n",
    "        int preS = 0;\n",
    "        for (int j=1; j<6; j++) {\n",
    "            int pres; cout << \"Presion sistolica \";\n",
    "            cout << j << \": \";  cin >> pres;\n",
    "            preS += pres;\n",
    "        }\n",
    "        int prom = preS/5;\n",
    "        cout << \"Su presion sistolica es: \" << prom << endl;\n",
    "        if (prom > 130)    cout << \"Ud. es hipertenso\";\n",
    "        else               cout << \"Ud. NO es hipertenso\";\n",
    "    }\n",
    "}"
   ]
  },
  {
   "cell_type": "markdown",
   "metadata": {},
   "source": [
    "**Palindromos y capicúas**"
   ]
  },
  {
   "cell_type": "code",
   "execution_count": null,
   "metadata": {
    "vscode": {
     "languageId": "cpp"
    }
   },
   "outputs": [],
   "source": [
    "# include <iostream>\n",
    "using namespace std;\n",
    "\n",
    "int numOrChar(string term) {\n",
    "    /* Verifica si el carater es un numero o palabra */\n",
    "    int EvCont = 0, EvStr = 0;\n",
    "    for (char i: term) {\n",
    "        if (isdigit(i))     EvCont++;\n",
    "        else      EvStr++;\n",
    "    }\n",
    "    if (EvCont == term.size())  return 2;\n",
    "    else if (EvStr == term.size())  return 1;\n",
    "    return 0;\n",
    "}\n",
    "\n",
    "int main() {\n",
    "    string a;  cout << \"Una palabra o numero: \";  cin >> a;\n",
    "    string dat;   bool fred = true;\n",
    "    if (numOrChar(a) == 2)     dat = \"capicua\";\n",
    "    else if (numOrChar(a)== 1)    dat = \"palindromo\";\n",
    "    else                fred = false;\n",
    "    \n",
    "    if (fred) {\n",
    "        /* ejecuta la revision si el caracter no es combinado */\n",
    "        bool es_parej = true;   int j = 0;\n",
    "        int leng = a.size();\n",
    "        while (j < leng/2) {\n",
    "            if (a[j] != a[leng-1-j]) {\n",
    "                es_parej = false;  break;\n",
    "            } j++;\n",
    "        }\n",
    "        if (es_parej)       cout << a << \" es \" << dat << endl;\n",
    "        else                cout << a << \" no es \" << dat << endl;\n",
    "    }\n",
    "    else        cout << \"No es posible combinados....\";\n",
    "}"
   ]
  },
  {
   "cell_type": "markdown",
   "metadata": {},
   "source": [
    "**Palabras con más de 3 vocales**"
   ]
  },
  {
   "cell_type": "code",
   "execution_count": null,
   "metadata": {
    "vscode": {
     "languageId": "cpp"
    }
   },
   "outputs": [],
   "source": [
    "#include <iostream>\n",
    "#include <string>\n",
    "#include <sstream>\n",
    "#include <vector>\n",
    "using namespace std;\n",
    "\n",
    "bool isVocal(char voc) {\n",
    "    for (char x: \"aeiou\") {\n",
    "        if (x == voc)       return true;\n",
    "    }  return false;\n",
    "}\n",
    "\n",
    "int main() {\n",
    "    char dato[40];  cout << \"Imgresa: \";\n",
    "    cin.getline(dato, 40);\n",
    "    // distribuir objetos en una lista\n",
    "    vector<string> letters;\n",
    "    istringstream ss(dato);\n",
    "    string del;   int i = 0;\n",
    "    while (getline(ss, del, ' ')) {\n",
    "        letters[i] = del;    i++;\n",
    "    }\n",
    "    // defnum : el primer elemento como int\n",
    "    stringstream num;\n",
    "    string num_ = letters[0];   int defnum;\n",
    "    num << num_;    num >> defnum;\n",
    "\n",
    "    if (defnum == letters.size()-1) {\n",
    "        int c = 0;\n",
    "        for (auto palabra: letters) {\n",
    "            int vocales = 0;   i = 0;\n",
    "            char letras[] = {};\n",
    "            for (char letra: palabra) {\n",
    "                bool valid = false;\n",
    "                for (char let: letras)\n",
    "                    if (let != letra) {\n",
    "                        letras[i] = letra;\n",
    "                        valid = true;  i++;    break;\n",
    "                    }\n",
    "                if (isVocal(letra) || valid)    vocales++;\n",
    "            }\n",
    "            if (vocales >= 3)     c++;\n",
    "        }\n",
    "        cout << \"Resultado: \" << c << endl;\n",
    "    }\n",
    "}"
   ]
  },
  {
   "cell_type": "markdown",
   "metadata": {},
   "source": [
    "#  **Ejercicios PC**"
   ]
  },
  {
   "cell_type": "markdown",
   "metadata": {},
   "source": [
    "**Registro de competencia deportiva**"
   ]
  },
  {
   "cell_type": "code",
   "execution_count": null,
   "metadata": {
    "vscode": {
     "languageId": "cpp"
    }
   },
   "outputs": [],
   "source": [
    "#include <iostream>\n",
    "using namespace std;\n",
    "\n",
    "int main() {\n",
    "    int cant_nad;\n",
    "    cout << \"Ingrese numero de nadadores: \";   cin >> cant_nad;\n",
    "    // float listTimes[cant_nad];\n",
    "    cout << endl;\n",
    "\n",
    "    int i=0;\n",
    "    float menor, mayor=0;\n",
    "    float time, suma= 0;\n",
    "    do {\n",
    "        cout << \"Ingrese tiempo del nadador: \";   cin >> time;\n",
    "        i++;  suma += time;\n",
    "        menor = time;\n",
    "        if (menor > mayor)      mayor = menor;\n",
    "\n",
    "    } while (i<cant_nad);\n",
    "\n",
    "    double prom = suma/i;\n",
    "    cout << \"\\nEl mayor tiempo fue: \" << mayor << \" segundos\" << endl;\n",
    "    cout << \"El menor tiempo fue: \" << menor << \" segundos\" << endl;\n",
    "    cout << \"El tiempo promedio es \" << prom << \" segundos\" << endl;\n",
    "}"
   ]
  },
  {
   "cell_type": "markdown",
   "metadata": {},
   "source": [
    "**Comparación de números**"
   ]
  },
  {
   "cell_type": "code",
   "execution_count": null,
   "metadata": {
    "vscode": {
     "languageId": "cpp"
    }
   },
   "outputs": [],
   "source": [
    "#include <iostream>\n",
    "using namespace std;\n",
    "\n",
    "bool mayorAlNumero(int num_evd, int n1, int n2, int n3) {\n",
    "    if (num_evd < n1 || num_evd < n2 || num_evd < n2)     return true;\n",
    "    return false;\n",
    "}\n",
    "\n",
    "int main() {\n",
    "    int eval, n1, n2, n3;\n",
    "    for (int i=0; i<5; i++) {\n",
    "        cout << \"ITERACION \" << i+1 << endl << \"------------------\" << endl;\n",
    "        cout << \"Ingrese numero a evaluar: \";   cin >> eval;\n",
    "        cout << \"\\nIngrese primer numero de prueba: \";   cin >> n1;\n",
    "        cout << \"Ingrese segundo numero de prueba: \";   cin >> n2;\n",
    "        cout << \"Ingrese tercer numero de prueba: \";   cin >> n3;\n",
    "        cout << endl;\n",
    "        if (mayorAlNumero(eval, n1, n2, n3))\n",
    "            cout << \"Este numero es menor que a los 3\\n\" << endl;\n",
    "        else\n",
    "            cout << \"Este numero es mayor a alguno(s)\\n\" << endl;\n",
    "    }\n",
    "}"
   ]
  },
  {
   "cell_type": "markdown",
   "metadata": {},
   "source": [
    "**Inspección de placas de transportistas**"
   ]
  },
  {
   "cell_type": "code",
   "execution_count": null,
   "metadata": {
    "vscode": {
     "languageId": "cpp"
    }
   },
   "outputs": [],
   "source": [
    "#include <iostream>\n",
    "#include <sstream>\n",
    "using namespace std;\n",
    "\n",
    "int main() {\n",
    "    cout << \"Ingresar las placas:\" << endl;\n",
    "    string listPlacas[10];\n",
    "    string *ptr = listPlacas;\n",
    "    for (int i=0; i<10; i++) { \n",
    "        string placa;\n",
    "        cout << \"Placa: \";  cin >> placa;\n",
    "        *(ptr+i) = placa;\n",
    "    }\n",
    "\n",
    "    int americano= 0, numplacas=0, fch_min=0;\n",
    "    for (string placa: listPlacas) {\n",
    "        // si el primer digito es 1 (americano)\n",
    "        if (placa[0] == '1')     americano++;\n",
    "        // asignar el año en los 2 y 3 digito\n",
    "        string ctfch1(1, placa[1]);\n",
    "        string ctfch2(1, placa[2]);\n",
    "        cout << ctfch1 << ctfch2 << endl;\n",
    "        int fecha = 2000 + stoi(ctfch1)*10 + stoi(ctfch2);\n",
    "        if (fecha < 2015)     fch_min++;\n",
    "\n",
    "        numplacas++;\n",
    "    }\n",
    "    cout << \"El porc. anterior al 2015 es: \" << (fch_min/numplacas)*100 << endl;\n",
    "    cout << \"El total de americanos es: \" << americano << endl;\n",
    "}"
   ]
  },
  {
   "cell_type": "markdown",
   "metadata": {},
   "source": [
    "**Juego de cartas**"
   ]
  },
  {
   "cell_type": "code",
   "execution_count": null,
   "metadata": {
    "vscode": {
     "languageId": "cpp"
    }
   },
   "outputs": [],
   "source": [
    "// !../identpowertype.h\n",
    "#ifndef _IDENTPOWERTYPE\n",
    "#define _IDENTPOWERTYPE\n",
    "using namespace std;\n",
    "\n",
    "int getPoder(string let) {\n",
    "    string lets[] = {\"2\", \"3\", \"4\", \"5\", \"6\", \"7\", \"8\", \"9\", \"10\", \"J\", \"Q\", \"K\", \"A\"};\n",
    "    const int valuesLet[] = {2,3,4,5,6,7,8,9,10,11,12,13,14};\n",
    "    int valor;\n",
    "    for (int i=0; i<13;i++) {\n",
    "        if (lets[i] == let)\n",
    "            valor = valuesLet[i];\n",
    "    }\n",
    "    return valor;\n",
    "}\n",
    "\n",
    "int getvalor(char type) {\n",
    "    int valor;\n",
    "    switch (type) {\n",
    "        case 'S':   valor = 4;    break;\n",
    "        case 'H':   valor = 3;    break;\n",
    "        case 'D':   valor = 2;    break;\n",
    "        case 'C':   valor = 1;    break;\n",
    "        default: break;\n",
    "    }\n",
    "    return valor;\n",
    "}\n",
    "\n",
    "string* SepararTypes(string carta) {\n",
    "    string* lisChar = new string[2];\n",
    "    if (size(carta) == 3) {\n",
    "        lisChar[0] = carta.substr(0, 2);\n",
    "        lisChar[1] = carta.substr(2, 1);\n",
    "    } else {\n",
    "        lisChar[0] = carta.substr(0, 1);\n",
    "        lisChar[1] = carta.substr(1, 1); \n",
    "    }\n",
    "    return lisChar;\n",
    "}\n",
    "# endif // FILE: ../_IDENTPOWERTYPE.H"
   ]
  },
  {
   "cell_type": "code",
   "execution_count": null,
   "metadata": {
    "vscode": {
     "languageId": "cpp"
    }
   },
   "outputs": [],
   "source": [
    "// !../main.cpp\n",
    "#include <iostream>\n",
    "#include <sstream>\n",
    "#include <string>\n",
    "#include \"identpowertype.h\"\n",
    "\n",
    "using namespace std;\n",
    "\n",
    "int CalcularValor(string* listCartas, int cant) {\n",
    "    int valortot = 0;\n",
    "    for (int i=0; i<cant; i++) {\n",
    "        int valor;\n",
    "        string* conj = SepararTypes(listCartas[i]); \n",
    "        char type = (*(conj+1))[0];\n",
    "        valor = getPoder(*(conj+0));\n",
    "        valor *= getvalor(type);\n",
    "        valortot += valor;\n",
    "        delete[] conj;\n",
    "    }\n",
    "    return valortot;\n",
    "}\n",
    "\n",
    "int main() {\n",
    "    int cant;\n",
    "    do { cout << \"Ingrese cantidad de cartas: \";  cin >> cant;\n",
    "    } while (cant < 1 && cant > 6);\n",
    "\n",
    "    char conjCartas[cant*3];    \n",
    "    cout << \"Ingrese cartas: \";     cin.getline(conjCartas, 18);\n",
    "    istringstream ss(conjCartas);   string div; \n",
    "    string* listCartas;\n",
    "\n",
    "    int i=0;\n",
    "    while (getline(ss, div, ' '))\n",
    "        listCartas[i] = div;    i++;\n",
    "    int valortot = CalcularValor(listCartas, cant);\n",
    "    cout << \"Valor de cartas: \" << valortot << endl;\n",
    "}"
   ]
  },
  {
   "cell_type": "markdown",
   "metadata": {},
   "source": [
    "**Intercambio de cartas de Alice y Betty  --(Clase)**"
   ]
  },
  {
   "cell_type": "code",
   "execution_count": null,
   "metadata": {
    "vscode": {
     "languageId": "cpp"
    }
   },
   "outputs": [],
   "source": [
    "#include <iostream>\n",
    "using namespace std;\n",
    "\n",
    "int solve(int* cards_A, int* cards_B, int A, int B) {\n",
    "    int count = 0;\n",
    "    for (int i=0; i<A; i++) {\n",
    "        bool cancel = true;\n",
    "        for (int j=0; j<B; j++) {\n",
    "            if (cards_A[i] == cards_B[j]);\n",
    "                cancel = false;\n",
    "        }\n",
    "        if (cancel)   count++;\n",
    "    }\n",
    "    return count;\n",
    "}\n",
    "\n",
    "void iteracion(int* cards, int iter) {\n",
    "    for (int i=0; i<iter; i++) {\n",
    "        cout << cards[i] << endl;\n",
    "    }\n",
    "}\n",
    "\n",
    "int* RepetidoNum(int* cards, int cant) {\n",
    "    int* arrayReduce;\n",
    "    int aux=0;\n",
    "    for (int i=0; i<cant; i++) {\n",
    "        if (cards[i] != aux) {\n",
    "            aux = cards[i];\n",
    "            arrayReduce[i] = cards[i];\n",
    "        }\n",
    "    }\n",
    "    return arrayReduce;\n",
    "}\n",
    "\n",
    "int main() {\n",
    "    int A, B, iter;\n",
    "    int* intercambios;\n",
    "    while(1) {\n",
    "        // A y B cantidades de cartas\n",
    "        int cards_A[10000], cards_B[10000];\n",
    "        cin >> A >> B;\n",
    "        // cartas de Alice\n",
    "        for (int i=0;i<A;i++) {\n",
    "            cin >> cards_A[i];\n",
    "        }\n",
    "        // cartas de Betty \n",
    "        for (int i=0;i<B;i++) {\n",
    "            cin >> cards_B[i];\n",
    "        }\n",
    "        // reduce las cartas para quedar solo las no repetidas\n",
    "        int* cards_A_rep = RepetidoNum(cards_A, A);\n",
    "        int* cards_B_rep = RepetidoNum(cards_B, B);\n",
    "        // las cantidades de cartas que se pueden intercambiar\n",
    "        int intercambio = solve(cards_A_rep, cards_B_rep, A, B);\n",
    "        // si las entradas de las cartas son ceros, se termina la ejecucion\n",
    "        if (A == 0 || B == 0)     break;\n",
    "        intercambios[iter] = intercambio;\n",
    "        iter++;\n",
    "    }\n",
    "    iteracion(intercambios, iter);\n",
    "    return 0;\n",
    "}"
   ]
  },
  {
   "cell_type": "markdown",
   "metadata": {},
   "source": [
    "**Triángulo con recursividad**"
   ]
  },
  {
   "cell_type": "code",
   "execution_count": null,
   "metadata": {
    "vscode": {
     "languageId": "cpp"
    }
   },
   "outputs": [],
   "source": [
    "#include <iostream>\n",
    "#include <iomanip>\n",
    "using namespace std;\n",
    "\n",
    "string Triangulo_rec(int count) {\n",
    "    if (count == 1)    return \"*\";\n",
    "    return \"* \" + Triangulo_rec(count-1);\n",
    "}\n",
    "\n",
    "int main() {\n",
    "    int num;\n",
    "    do {cout << \"Ingrese un numero: \";    cin >> num;\n",
    "    } while (num < 1 && num > 10);\n",
    "    for (int i=1; i<num+1;i++)\n",
    "        cout << setw(num+i) << Triangulo_rec(i) << endl;\n",
    "}"
   ]
  },
  {
   "cell_type": "markdown",
   "metadata": {},
   "source": [
    "**Distancia Manhattan**"
   ]
  },
  {
   "cell_type": "code",
   "execution_count": null,
   "metadata": {
    "vscode": {
     "languageId": "cpp"
    }
   },
   "outputs": [],
   "source": [
    "#include <iostream>\n",
    "#include <iomanip>\n",
    "using namespace std;\n",
    "\n",
    "int main() {\n",
    "    int k;\n",
    "    do { cout << \"k: \";  cin >> k;\n",
    "    } while (k < 2);\n",
    "    float** list_coords = new float*[k];\n",
    "    for (int i=0; i<k; i++) {\n",
    "        float* coord = new float[2];\n",
    "        cout << \"P\" << i+1 << \": \";\n",
    "        cin >> coord[0] >> coord[1];\n",
    "        list_coords[i] = coord;\n",
    "    }\n",
    "    float sum = 0;\n",
    "    for (int i=0; i<k-1; i++) {\n",
    "        float agrup_x = abs(list_coords[i][0] - list_coords[i+1][0]);\n",
    "        float agrup_y = abs(list_coords[i][1] - list_coords[i+1][1]);\n",
    "        float result = agrup_x + agrup_y;\n",
    "        sum += result;\n",
    "    }\n",
    "    cout << \"Distancia total: \" << sum << endl;\n",
    "    delete[] list_coords;\n",
    "}"
   ]
  },
  {
   "cell_type": "markdown",
   "metadata": {},
   "source": [
    "**Progreso laboral de los trabajadores**"
   ]
  },
  {
   "cell_type": "code",
   "execution_count": null,
   "metadata": {
    "vscode": {
     "languageId": "cpp"
    }
   },
   "outputs": [],
   "source": [
    "// !../funciones.h\n",
    "#ifndef _FUNCIONES\n",
    "#define _FUNCIONES\n",
    "#include <iostream>\n",
    "\n",
    "const int MIN_TAREAS =5; // minimo de tareas por dia\n",
    "const int MAX_TAREAS =20; // maximo de tareas por dia\n",
    "const int MAX_TRABAJADORES =10; // maximo de trabajadores\n",
    "using namespace std;\n",
    "\n",
    "int obtenerTrabajadores() {\n",
    "    int cant;\n",
    "    do {cout << \"Cantidad de trabajadores: \";    cin >> cant;\n",
    "    } while (cant > MAX_TRABAJADORES || cant < 1);\n",
    "    return cant;\n",
    "}\n",
    "\n",
    "int generarAvance() {\n",
    "    int random;\n",
    "    // srand(time(NULL));\n",
    "    do { random = rand()% MAX_TAREAS;\n",
    "    } while (random < MIN_TAREAS);\n",
    "    return random;\n",
    "}\n",
    "\n",
    "void graficarAvance(int tareas) {\n",
    "    int porcentaje = (tareas*100/MAX_TAREAS);\n",
    "    for (int i=0; i<tareas; i++) {\n",
    "            cout << '|';\n",
    "    } cout << tareas << ':' << porcentaje << \"%\" << endl;\n",
    "}\n",
    "\n",
    "# endif // FILE ../_FUNCIONES.H"
   ]
  },
  {
   "cell_type": "code",
   "execution_count": null,
   "metadata": {
    "vscode": {
     "languageId": "cpp"
    }
   },
   "outputs": [],
   "source": [
    "// !../main.cpp\n",
    "#include <iostream>\n",
    "#include \"funciones.h\"\n",
    "using namespace std;\n",
    "\n",
    "int main() {\n",
    "    srand(time(NULL));// semilla del random\n",
    "    int total_tareas;\n",
    "    int n = obtenerTrabajadores();\n",
    "    cout << \"Graficando avance diario:\\n\";\n",
    "    for (int i=0; i < n; i++) {\n",
    "        total_tareas = generarAvance();\n",
    "        graficarAvance(total_tareas);\n",
    "    }\n",
    "}"
   ]
  },
  {
   "cell_type": "markdown",
   "metadata": {},
   "source": [
    "**MCD con Algoritmo de Euclides**"
   ]
  },
  {
   "cell_type": "code",
   "execution_count": null,
   "metadata": {
    "vscode": {
     "languageId": "cpp"
    }
   },
   "outputs": [],
   "source": [
    "#include <iostream>\n",
    "using namespace std;\n",
    "\n",
    "int main() {\n",
    "    int numero1, numero2;\n",
    "    cout << \"Ingrese primer numero: \";   cin >> numero1;\n",
    "    cout << \"Ingrese segundo numero: \";   cin >> numero2;\n",
    "\n",
    "    while (numero1 != numero2) {\n",
    "        if (numero1 > numero2)\n",
    "            numero1 -= numero2;\n",
    "        else if (numero1 < numero2)\n",
    "            numero2 -= numero1;\n",
    "    }\n",
    "    cout << \"MCD: \" << numero1 << endl;\n",
    "}"
   ]
  }
 ],
 "metadata": {
  "kernelspec": {
   "display_name": "C++17",
   "language": "C++17",
   "name": "xcpp17"
  },
  "language_info": {
   "codemirror_mode": {
    "name": "ipython",
    "version": 3
   },
   "file_extension": ".py",
   "mimetype": "text/x-python",
   "name": "python",
   "nbconvert_exporter": "python",
   "pygments_lexer": "ipython3",
   "version": "3.9.12"
  }
 },
 "nbformat": 4,
 "nbformat_minor": 2
}
